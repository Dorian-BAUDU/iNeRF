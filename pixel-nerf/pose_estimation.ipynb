{
 "cells": [
  {
   "cell_type": "markdown",
   "metadata": {},
   "source": [
    "# iNeRF"
   ]
  },
  {
   "cell_type": "code",
   "execution_count": 1,
   "metadata": {},
   "outputs": [],
   "source": [
    "%load_ext autoreload\n",
    "%autoreload 2\n",
    "%matplotlib inline"
   ]
  },
  {
   "cell_type": "code",
   "execution_count": 2,
   "metadata": {},
   "outputs": [],
   "source": [
    "import sys\n",
    "import os\n",
    "\n",
    "ROOT_DIR = os.getcwd()\n",
    "sys.path.insert(0, os.path.join(ROOT_DIR, \"src\"))\n",
    "\n",
    "import json\n",
    "import util\n",
    "import torch\n",
    "import numpy as np\n",
    "from model import make_model\n",
    "from render import NeRFRenderer\n",
    "import torchvision.transforms as T\n",
    "import tqdm\n",
    "import imageio\n",
    "import cv2\n",
    "import mediapy as media\n",
    "import matplotlib.pyplot as plt\n",
    "from PIL import Image"
   ]
  },
  {
   "cell_type": "markdown",
   "metadata": {},
   "source": [
    "## Config\n",
    "\n",
    "- `input`: the path of the source image for pixelNeRF.\n",
    "- `target`: the path of the target whose pose we want to estimate.\n",
    "- `output`: the directory to save rendered output."
   ]
  },
  {
   "cell_type": "code",
   "execution_count": 3,
   "metadata": {},
   "outputs": [],
   "source": [
    "config = {\n",
    "    'input': './input/1.png',\n",
    "    'target': './input/2.png',\n",
    "    'output': './pose_estimation'\n",
    "}"
   ]
  },
  {
   "cell_type": "markdown",
   "metadata": {},
   "source": [
    "## Visualize the input data\n",
    "\n",
    "We show both the source image and the target image. Our goal is to 1) use pixelNeRF to generate a NeRF based on the source image and 2) estimate the relative pose between them."
   ]
  },
  {
   "cell_type": "code",
   "execution_count": 4,
   "metadata": {},
   "outputs": [
    {
     "data": {
      "text/html": [
       "<table class=\"show_images\" style=\"border-spacing:0px;\"><tr><td style=\"padding:1px;\"><div style=\"display:flex; align-items:left;\">\n",
       "      <div style=\"display:flex; flex-direction:column; align-items:center;\">\n",
       "      <div>Source</div><div><img width=\"128\" height=\"128\" style=\"image-rendering:auto; object-fit:cover;\" src=\"data:image/png;base64,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\"/></div></div></div></td><td style=\"padding:1px;\"><div style=\"display:flex; align-items:left;\">\n",
       "      <div style=\"display:flex; flex-direction:column; align-items:center;\">\n",
       "      <div>Target</div><div><img width=\"128\" height=\"128\" style=\"image-rendering:auto; object-fit:cover;\" src=\"data:image/png;base64,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\"/></div></div></div></td></tr></table>"
      ],
      "text/plain": [
       "<IPython.core.display.HTML object>"
      ]
     },
     "metadata": {},
     "output_type": "display_data"
    }
   ],
   "source": [
    "input_image_np = np.array(Image.open(config['input']).convert(\"RGB\"))\n",
    "target_image_np = np.array(Image.open(config['target']).convert(\"RGB\"))\n",
    "\n",
    "media.show_images({\n",
    "    'Source':  input_image_np,\n",
    "    'Target': target_image_np\n",
    "})"
   ]
  },
  {
   "cell_type": "markdown",
   "metadata": {},
   "source": [
    "## PixelNeRF\n",
    "\n",
    "Load the pixelNeRF. Make sure the `./checkpoints/srn_car/pixel_nerf_latest` exist."
   ]
  },
  {
   "cell_type": "code",
   "execution_count": 5,
   "metadata": {
    "scrolled": true
   },
   "outputs": [
    {
     "name": "stdout",
     "output_type": "stream",
     "text": [
      "EXPERIMENT NAME: srn_car\n",
      "* Config file: conf/exp/srn.conf\n",
      "* Dataset format: srn\n",
      "* Dataset location: data\n",
      "Using torchvision resnet34 encoder\n"
     ]
    },
    {
     "name": "stderr",
     "output_type": "stream",
     "text": [
      "Downloading: \"https://download.pytorch.org/models/resnet34-b627a593.pth\" to /home/dbaudu/.cache/torch/hub/checkpoints/resnet34-b627a593.pth\n",
      "100%|█████████████████████████████████████████████████████████████| 83.3M/83.3M [00:00<00:00, 103MB/s]\n"
     ]
    },
    {
     "name": "stdout",
     "output_type": "stream",
     "text": [
      "Load checkpoints/srn_car/pixel_nerf_latest\n"
     ]
    }
   ],
   "source": [
    "def extra_args(parser):\n",
    "    parser.add_argument(\n",
    "        \"--input\",\n",
    "        \"-I\",\n",
    "        type=str,\n",
    "        help=\"Input image to condition on.\",\n",
    "    )\n",
    "    parser.add_argument(\n",
    "        \"--target\",\n",
    "        \"-T\",\n",
    "        type=str,\n",
    "        help=\"Target image to estimate the pose.\",\n",
    "    )\n",
    "    parser.add_argument(\n",
    "        \"--output\",\n",
    "        \"-O\",\n",
    "        type=str,\n",
    "        default=os.path.join(ROOT_DIR, \"pose_estimation\"),\n",
    "        help=\"Output directory\",\n",
    "    )\n",
    "    parser.add_argument(\"--size\", type=int, default=128, help=\"Input image maxdim\")\n",
    "    parser.add_argument(\n",
    "        \"--out_size\",\n",
    "        type=str,\n",
    "        default=\"128\",\n",
    "        help=\"Output image size, either 1 or 2 number (w h)\",\n",
    "    )\n",
    "\n",
    "    parser.add_argument(\"--focal\", type=float, default=131.25, help=\"Focal length\")\n",
    "    parser.add_argument(\"--radius\", type=float, default=1.3, help=\"Camera distance\")\n",
    "    parser.add_argument(\"--z_near\", type=float, default=0.8)\n",
    "    parser.add_argument(\"--z_far\", type=float, default=1.8)\n",
    "    parser.add_argument(\n",
    "        \"--elevation\",\n",
    "        \"-e\",\n",
    "        type=float,\n",
    "        default=0.0,\n",
    "        help=\"Elevation angle (negative is above)\",\n",
    "    )\n",
    "    parser.add_argument(\n",
    "        \"--num_views\",\n",
    "        type=int,\n",
    "        default=1,\n",
    "        help=\"Number of video frames (rotated views)\",\n",
    "    )\n",
    "    parser.add_argument(\"--fps\", type=int, default=15, help=\"FPS of video\")\n",
    "    parser.add_argument(\"--gif\", action=\"store_true\", help=\"Store gif instead of mp4\")\n",
    "    parser.add_argument(\n",
    "        \"--no_vid\",\n",
    "        action=\"store_true\",\n",
    "        help=\"Do not store video (only image frames will be written)\",\n",
    "    )\n",
    "    parser.add_argument(\"--lrate\", type=float, default=1e-2)\n",
    "    parser.add_argument(\"--n_steps\", type=int, default=500, help=\"Number of steps for pose optimization.\")\n",
    "    return parser\n",
    "\n",
    "\n",
    "args, conf = util.args.parse_args(\n",
    "    extra_args, default_expname=\"srn_car\", default_data_format=\"srn\", jupyter=True\n",
    ")\n",
    "args.resume = True\n",
    "os.makedirs(args.output, exist_ok=True)\n",
    "\n",
    "device = util.get_cuda(args.gpu_id[0])\n",
    "\n",
    "z_near, z_far = args.z_near, args.z_far\n",
    "focal = torch.tensor(args.focal, dtype=torch.float32, device=device)\n",
    "\n",
    "in_sz = args.size\n",
    "sz = list(map(int, args.out_size.split()))\n",
    "if len(sz) == 1:\n",
    "    H = W = sz[0]\n",
    "else:\n",
    "    assert len(sz) == 2\n",
    "    W, H = sz\n",
    "    \n",
    "net = make_model(conf[\"model\"]).to(device=device).load_weights(args)\n",
    "\n",
    "# Create the renderer.\n",
    "renderer = NeRFRenderer.from_conf(\n",
    "    conf[\"renderer\"], eval_batch_size=args.ray_batch_size\n",
    ").to(device=device)\n",
    "render_par = renderer.bind_parallel(net, args.gpu_id, simple_output=True)"
   ]
  },
  {
   "cell_type": "markdown",
   "metadata": {},
   "source": [
    "## iNeRF"
   ]
  },
  {
   "cell_type": "code",
   "execution_count": 6,
   "metadata": {},
   "outputs": [
    {
     "name": "stdout",
     "output_type": "stream",
     "text": [
      "Input image: ./input/1.png\n",
      "Target image: ./input/2.png\n",
      "Input pose:\n",
      "tensor([[1.0000, 0.0000, 0.0000, 0.0000],\n",
      "        [0.0000, 1.0000, 0.0000, 0.0000],\n",
      "        [0.0000, 0.0000, 1.0000, 1.3000],\n",
      "        [0.0000, 0.0000, 0.0000, 1.0000]])\n",
      "Init pose:\n",
      "tensor([[1.0000, 0.0000, 0.0000, 0.0000],\n",
      "        [0.0000, 1.0000, 0.0000, 0.0000],\n",
      "        [0.0000, 0.0000, 1.0000, 1.3000],\n",
      "        [0.0000, 0.0000, 0.0000, 1.0000]], grad_fn=<SelectBackward0>)\n"
     ]
    },
    {
     "name": "stderr",
     "output_type": "stream",
     "text": [
      "/home/dbaudu/anaconda3/envs/pixelnerf/lib/python3.8/site-packages/torch/functional.py:512: UserWarning: torch.meshgrid: in an upcoming release, it will be required to pass the indexing argument. (Triggered internally at /croot/pytorch-select_1725478810240/work/aten/src/ATen/native/TensorShape.cpp:3587.)\n",
      "  return _VF.meshgrid(tensors, **kwargs)  # type: ignore[attr-defined]\n"
     ]
    },
    {
     "name": "stdout",
     "output_type": "stream",
     "text": [
      "Step 0, loss: 0.08734916895627975\n",
      "Step 10, loss: 0.0381256602704525\n",
      "Step 20, loss: 0.02016402594745159\n",
      "Step 30, loss: 0.015898268669843674\n",
      "Step 40, loss: 0.014114156365394592\n",
      "Step 50, loss: 0.009933280758559704\n",
      "Step 60, loss: 0.007224468048661947\n",
      "Step 70, loss: 0.009589090943336487\n",
      "Step 80, loss: 0.008599850349128246\n",
      "Step 90, loss: 0.007737383712083101\n",
      "Step 100, loss: 0.008761134929955006\n"
     ]
    }
   ],
   "source": [
    "image_to_tensor = util.get_image_to_tensor_balanced()\n",
    "\n",
    "# Encoding the input image.\n",
    "print(f\"Input image: {config['input']}\")\n",
    "input_image = Image.fromarray(input_image_np)\n",
    "input_image = T.Resize(in_sz)(input_image)\n",
    "input_image = image_to_tensor(input_image).to(device=device)\n",
    "input_pose = torch.eye(4)\n",
    "input_pose[2, -1] = args.radius\n",
    "\n",
    "print(f\"Target image: {config['target']}\")\n",
    "target_image = Image.fromarray(target_image_np)\n",
    "target_image = T.Resize(in_sz)(target_image)\n",
    "target_image_flatten = np.reshape(target_image, [-1, 3]) / 255.0\n",
    "target_image_flatten = torch.from_numpy(target_image_flatten).float().to(device=device)\n",
    "\n",
    "cam_pose = torch.clone(input_pose.detach()).unsqueeze(0)\n",
    "cam_pose.requires_grad = True\n",
    "\n",
    "print(\"Input pose:\")\n",
    "print(f\"{input_pose}\")\n",
    "print(\"Init pose:\")\n",
    "print(f\"{cam_pose[0]}\")\n",
    "\n",
    "# Create optimizer.\n",
    "optimizer = torch.optim.Adam(params=[cam_pose], lr=args.lrate)\n",
    "n_steps = 100 + 1\n",
    "\n",
    "# Loss.\n",
    "mse_loss = torch.nn.MSELoss()\n",
    "\n",
    "# Sampling.\n",
    "n_rays = 1024\n",
    "sampling = 'center'\n",
    "\n",
    "# Pose optimization.\n",
    "predicted_poses = []\n",
    "fine_patches = []\n",
    "gt_patches = []\n",
    "\n",
    "for i_step in range(n_steps):\n",
    "    # Encode.\n",
    "    net.encode(\n",
    "        input_image.unsqueeze(0), input_pose.unsqueeze(0).to(device=device), focal,\n",
    "    )\n",
    "\n",
    "    render_rays = util.gen_rays(cam_pose, W, H, focal, z_near, z_far)\n",
    "    render_rays_flatten = render_rays.view(-1, 8)\n",
    "    assert render_rays_flatten.shape[0] == H*W\n",
    "    if sampling == 'random':\n",
    "        idxs_sampled = torch.randint(0, H*W, (n_rays,))\n",
    "    elif sampling == 'center':\n",
    "        frac = 0.5\n",
    "        mask = torch.zeros((H, W))\n",
    "        h_low = int(0.5*(1-frac)*H)\n",
    "        h_high = int(0.5*(1+frac)*H)\n",
    "        w_low = int(0.5*(1-frac)*W)\n",
    "        w_high = int(0.5*(1+frac)*W)\n",
    "        mask[h_low:h_high, w_low:w_high] = 1\n",
    "        mask = mask.reshape(H*W)\n",
    "\n",
    "        idxs_masked = torch.where(mask>0)[0]\n",
    "        idxs_sampled = idxs_masked[torch.randint(0, idxs_masked.shape[0], (n_rays,))]\n",
    "    elif sampling == 'patch':\n",
    "        frac = 0.25\n",
    "        mask = torch.zeros((H, W))\n",
    "        h_low = int(0.5*(1-frac)*H)\n",
    "        h_high = int(0.5*(1+frac)*H)\n",
    "        w_low = int(0.5*(1-frac)*W)\n",
    "        w_high = int(0.5*(1+frac)*W)\n",
    "        mask[h_low:h_high, w_low:w_high] = 1\n",
    "        mask = mask.reshape(H*W)\n",
    "\n",
    "        idxs_sampled = torch.where(mask>0)[0]\n",
    "\n",
    "    render_rays_sampled = render_rays_flatten[idxs_sampled].to(device=device)\n",
    "\n",
    "    rgb, _ = render_par(render_rays_sampled[None])\n",
    "    loss = mse_loss(rgb, target_image_flatten[idxs_sampled][None])\n",
    "\n",
    "    optimizer.zero_grad()\n",
    "    loss.backward()\n",
    "\n",
    "    if i_step % 10 == 0:        \n",
    "        predicted_poses.append(torch.clone(cam_pose[0]).detach().numpy())\n",
    "        fine_patches.append(torch.clone(rgb[0]).detach().cpu().numpy().reshape(32, 32, 3))\n",
    "        gt_patches.append(torch.clone(target_image_flatten[idxs_sampled]).detach().cpu().numpy().reshape(32, 32, 3))\n",
    "\n",
    "#         pose_pred = predicted_poses[-1].copy()\n",
    "#         pose_pred[2, -1] -= args.radius\n",
    "#         pose_pred = pose_input @ pose_pred\n",
    "#         error_R, error_t = compute_pose_error(pose_pred, pose_target)\n",
    "        print(f\"Step {i_step}, loss: {loss}\")\n",
    "        \n",
    "    optimizer.step()"
   ]
  },
  {
   "cell_type": "markdown",
   "metadata": {},
   "source": [
    "## Render the results"
   ]
  },
  {
   "cell_type": "code",
   "execution_count": 8,
   "metadata": {
    "scrolled": true
   },
   "outputs": [
    {
     "name": "stdout",
     "output_type": "stream",
     "text": [
      "Rendering 180224 rays\n"
     ]
    },
    {
     "name": "stderr",
     "output_type": "stream",
     "text": [
      "100%|██████████████████████████████████████████████████████████████████| 3/3 [08:48<00:00, 176.01s/it]\n"
     ]
    }
   ],
   "source": [
    "def create_image(patch):\n",
    "    image = np.zeros((128, 128, 3))\n",
    "    image[48:80, 48:80, :] = patch\n",
    "    image = (image * 255.0).astype(np.uint8)\n",
    "    return image\n",
    "\n",
    "# Rendering.\n",
    "overlay_frames = []\n",
    "n_poses = len(predicted_poses)\n",
    "render_poses = torch.from_numpy(np.array(predicted_poses))\n",
    "render_rays = util.gen_rays(render_poses, W, H, focal, z_near, z_far).to(device=device)\n",
    "with torch.no_grad():\n",
    "    print(\"Rendering\", n_poses * H * W, \"rays\")\n",
    "    all_rgb_fine = []\n",
    "    for rays in tqdm.tqdm(torch.split(render_rays.view(-1, 8), 80000, dim=0)):\n",
    "        rgb, _depth = render_par(rays[None])\n",
    "        all_rgb_fine.append(rgb[0])\n",
    "    _depth = None\n",
    "    rgb_fine = torch.cat(all_rgb_fine)\n",
    "    frames = (rgb_fine.view(n_poses, H, W, 3).cpu().numpy() * 255).astype(\n",
    "        np.uint8\n",
    "    )\n",
    "    target_image = (target_image_flatten.cpu().numpy().reshape([H, W, 3]) * 255.0).astype(np.uint8)\n",
    "    target_images = np.stack([np.array(target_image)]*n_poses, 0)\n",
    "    \n",
    "    im_name = os.path.basename(os.path.splitext(config['input'])[0])\n",
    "\n",
    "    frames_dir_name = os.path.join(config['output'], im_name + \"_frames\")\n",
    "    os.makedirs(frames_dir_name, exist_ok=True)\n",
    "\n",
    "    for i in range(n_poses):\n",
    "        if sampling == 'patch': #0.75\n",
    "            pred_patch_path = os.path.join(config['output'], f'./pred_patch_{i}.png')\n",
    "            pred_image = create_image(fine_patches[i])\n",
    "\n",
    "            gt_patch_path = os.path.join(config['output'], f'./gt_patch_{i}.png')\n",
    "            gt_image = create_image(gt_patches[i])\n",
    "            overlay_frame = (pred_image*0.5).astype(np.uint8) + (gt_image*0.5).astype(np.uint8)\n",
    "        else:\n",
    "            overlay_frame = (frames[i]*0.5).astype(np.uint8) + (target_images[i]*0.5).astype(np.uint8)\n",
    "        overlay_frames.append(overlay_frame)"
   ]
  },
  {
   "cell_type": "markdown",
   "metadata": {},
   "source": [
    "## Visualize the results\n",
    "\n",
    "We show the overlay of the image rendered with our predicted pose and the target image."
   ]
  },
  {
   "cell_type": "code",
   "execution_count": 9,
   "metadata": {},
   "outputs": [
    {
     "data": {
      "text/html": [
       "<table class=\"show_images\" style=\"border-spacing:0px;\"><tr><td style=\"padding:1px;\"><div style=\"display:flex; align-items:left;\">\n",
       "      <div style=\"display:flex; flex-direction:column; align-items:center;\">\n",
       "      <div>Step 0</div><div><img width=\"128\" height=\"128\" style=\"image-rendering:auto; object-fit:cover;\" src=\"data:image/png;base64,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\"/></div></div></div></td><td style=\"padding:1px;\"><div style=\"display:flex; align-items:left;\">\n",
       "      <div style=\"display:flex; flex-direction:column; align-items:center;\">\n",
       "      <div>Step 10</div><div><img width=\"128\" height=\"128\" style=\"image-rendering:auto; object-fit:cover;\" src=\"data:image/png;base64,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\"/></div></div></div></td><td style=\"padding:1px;\"><div style=\"display:flex; align-items:left;\">\n",
       "      <div style=\"display:flex; flex-direction:column; align-items:center;\">\n",
       "      <div>Step 20</div><div><img width=\"128\" height=\"128\" style=\"image-rendering:auto; object-fit:cover;\" src=\"data:image/png;base64,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\"/></div></div></div></td><td style=\"padding:1px;\"><div style=\"display:flex; align-items:left;\">\n",
       "      <div style=\"display:flex; flex-direction:column; align-items:center;\">\n",
       "      <div>Step 30</div><div><img width=\"128\" height=\"128\" style=\"image-rendering:auto; object-fit:cover;\" src=\"data:image/png;base64,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\"/></div></div></div></td><td style=\"padding:1px;\"><div style=\"display:flex; align-items:left;\">\n",
       "      <div style=\"display:flex; flex-direction:column; align-items:center;\">\n",
       "      <div>Step 40</div><div><img width=\"128\" height=\"128\" style=\"image-rendering:auto; object-fit:cover;\" src=\"data:image/png;base64,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\"/></div></div></div></td><td style=\"padding:1px;\"><div style=\"display:flex; align-items:left;\">\n",
       "      <div style=\"display:flex; flex-direction:column; align-items:center;\">\n",
       "      <div>Step 50</div><div><img width=\"128\" height=\"128\" style=\"image-rendering:auto; object-fit:cover;\" src=\"data:image/png;base64,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\"/></div></div></div></td><td style=\"padding:1px;\"><div style=\"display:flex; align-items:left;\">\n",
       "      <div style=\"display:flex; flex-direction:column; align-items:center;\">\n",
       "      <div>Step 60</div><div><img width=\"128\" height=\"128\" style=\"image-rendering:auto; object-fit:cover;\" src=\"data:image/png;base64,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\"/></div></div></div></td><td style=\"padding:1px;\"><div style=\"display:flex; align-items:left;\">\n",
       "      <div style=\"display:flex; flex-direction:column; align-items:center;\">\n",
       "      <div>Step 70</div><div><img width=\"128\" height=\"128\" style=\"image-rendering:auto; object-fit:cover;\" src=\"data:image/png;base64,iVBORw0KGgoAAAANSUhEUgAAAIAAAACACAIAAABMXPacAAASHElEQVR4nO2d6Y8cx3XA33tV1ddce3KXFMWlRIqkCJI6TJOipEiWrciG5UNKfCQQZNmAEQQxkC/5M/IxRmw4+WADdhIEMZDLshTBiizrcqTQVEQuJZLLa7nce+fs6e7qqnr5QEemLMVJEO70Uuzfl9mdHQzq1W+quurV61l0zkFJcVDRDbjRKQUUTCmgYEoBBVMKKJhSQMGUAgqmFFAwpYCCKQUUTCmgYEoBBVMKKJhSQMGUAgqmFFAwpYCCKQUUTCmgYEoBBVMKKJhSQMGUAgqmFFAwpYCCKQUUTCmgYEoBBVMKKJhSQMGUAgqmFFAwpYCCKQUUTCmgYGTRDQAAiJPMGGuNHRqqEmLRzRkoBQtYXGm+/O8Xjy+1ug57cfLQjtG799y0bcu4pzbEJ2MAYFF3Seo8/8XxC69Nz756ceFiUzd7eTdNAk88dNPE4w/seuDgzmolLKRhA6YYAYsr7edeOf3qudnp5daltbQb5+12z+RaKvSi4Lb60FMP7v30vTt3TG0efNsGzKAFJKk+fmb+p8fOv3J29sxKZ7mbrq72TKbBMgADCU+JIFSg6NGpia9//uB9B/d+uKejAcXGDGmarXWT199efPrnb59ZXplr9+ZWOmmSudyBtUKgJJlnqdOsU3Rs/7653Ou12+3u4bv3TIwNE304F2yDEBD3kyTVZ+e7z7548fjq4qmFxcVWr9mN80yzsZJIetLZXKJzNgXdy5MOgHaSXukvWNubW2o9dGjPnl3bicQAWjtg1n0KSnP79szs0VNLx073/u38zEInWWh2TG7YOimBEAicRMq6bZP2pOmKtKVX5znviqAqxzb79fGbp24+uOOWLz506PCdtw0P1da1tYNnfUdAs9s/dWnlJ6+dPnGh+c5KZ3p2ObfWGYOEUgkp0FMiaXdsnlDSpNVZ21th25fE6PsU1SispyKcaeZLb52b78WPr/Y+dWTv1i1jH6adwjoKcM79xzvnnnl1+o2Z+UvL/XkDmh0DCCW9wOc8N1nCqYbeMvaWzNos6S6CJU+JYIiikcwf0d6Q86tAkQb58qX+3PNHz3T6Xz6898Dum6T4kExH6yjg8uWFk2+dOD59cma+lzrKgZAFgBQkwDmjtQJ27YV8dloky4o0eb6REYcjJhxjv26CKquIKWBUjmXXyBNL6fKLJ04vt59cvP3wvm1bxofWr/EDY10FLM7PzXY7K63VlvNCUr6gwLIzVrg04yw2WdssnsVkCV2CfgRRg0UEwYiJRp0XgYxAeUAKAAEAmJ2F5Z5+6eScBrzcSz5x4JadW0ev96GwjgLGxke23zJ1dObcuJ+1rOukOSgHrAAUWmc6q647j/EKcg6eb/26ExXw6iYY5qDBygfhoxBAhAjADhiYyDKtpfbVd+YXm/FKmn82vWXXttFqGKxfFOvNOgrYunXL7bt37D9z6tL5s2mGmQuY2Ak/N7nNHROjQFQBKWDlGRWBGnLVcY6Gwa8BKRCSkfHd3BwyAAOgs9Ts5m8lzTh+M+7rh1tb9+8Ynxwdwuszi7eOAjylDt6xL0/606dmmsffHqsOpUwWmKXqgdAUgZrgStXplE3CqsLVUQiHMKizCkB4gARsAQCAgR0zAyAwAzsg0ta9s5x0f3as1emCM76SI43rcoW6vstQqdSdd9355Bcem7/8rWYvVs6wcuBXQ0kIrFk6iBz5AEPoB+hX0I/YD9CLQPlXOhzYgrVsLVgDwAAMbMEBADHgYszPvHUuzbPAo4N7t0fX4Vy07vv7ShTesX/vJx96sNNcc0kvcJkPpiq5IoCMA2PZWMgNZClnPdY9MokQIJRPYQXDKnghKA89DzwfpAIhARGAAR0wG+MW1nrPv3n6H19668LcorF2vcO55qx7KoKItm7dsnViPOn1SAghJQC4AIl9cpaNAW1Y98ElLJCVx9EwZpNYHYfKKHgVJMHKA2tJGGcQnAUH4BiIUEkw2iR6ZbX72quLezd5m8eHhhqN9Y7o2jKIXBARYdrVvbYDRkJprUlzI6oeiyxLOO5Cv8lpE4IQGiPMhpMWTRoGgaDAj4B8VI6cQaHBGUJAdsKTKvDs2oJuzUNz7jzGzwVmavPYfUcOBr4/gKCuFYMQsLa8PH3mhMScs17cAr/mSFmQVvp1JTG32ukeZG3Iu+ByaIxDWHVLMyg8RoFehFKhEgS5NCQQyBOCwGMD3bXuueNy4Wxg2xnkJ0/7z/30teHh+v69e5RSA4jrmrDuAnKtL1280O32AkVSQWr6/R6qwKE0WaadqIhKSHloM8c2g9iiM+w2QXWY509it8Umg/okVUZk4AWh9NApDznp49pSfOYYnDtKus0SpO9126svv/wSMzDggdt3Kc9b79CuCesuQCrlBWFu2ZhckPNQsu7nDOhZFFYqZPKhNgq6Y+JlZIu6C21AqSCqu/4iXk4pqMrKaBiGYQiq2/baneXTJ/ozb2LzLOsuAmvLCBaodWGOzLG3ubLJgHdw304hroMjhHUXgIhRtRpVatVq1Zg8CjyPoaO1yYmQFGcMhEEVxm4B8l08DzbnpIMtJZUyfoSmS8tnyfdlZXNonT9/oX/pRP+dn7v+KrEB5xwwAmjQQmoF3Mz5+XOr/LO3q7Xq7qmJjZ+oGMQ1YHx8/K6777w4e/4XR48KdGFE/TTLHToUyCA8R1IEUSXLhixnJlkDm7l41RLB6E0YRtA867qLvdltue3z4sl0eQZsgs4COwBAAGRw1mmtAfw2Vrjnlk4tz/df/8an7/jonpul3NAOBiGgMTT8+ONfyE2GAKdOHo/bWZ6kJJmF5xgJSXoZSMGNMesHFNfy5gVrU9tdAfQ4qkKWch4bOWOSReAMgYGZgK/k6BDwyv5Y+NV0+BYdjZuc4tX0h/2Vy+kbf/Lb+sE7pqrRxl0XDehMeHx802OPfcnzKk97wdvTJ2vY68SZsxqJbK6zfs8HIOm76rD0K+hV9MpZq1NIOwwO8gxsTFkLwMGVfBAwIiBeydMBM8igVt1+Z2d0s1Cec2zyXAt6YzH+0xeOL7fTx+7fOVSNBhPp/5WBVkU011Zffvml+fn5drv7o2f+5Z3zlzpxBqiAhO97MqhoETJ6nGemvaBblywFENTQ5dL0iM2VNyG8AhACMIBU5Fc233Ynbr69DappKHUeg8QgIN9r1IL9E7UvHLjtiQd3DtU2YqFRMXVB/X5/+viJ51548S+++4O1bgwgEEkFPgUVJyIQQdbv685a3r3svIiAZdZGqxEBCYlIXEl8IjqhguHxka27xrcfqNSGlvvZQpyt5GhYMQqQUoRhoxLecdPIE/fs/p2D2xoVb6MlTYspuYmi6OChj966Yychfu+v/3Z5tW0dO2MgT5GBkSkIicelihCtTZugEYCRCBGvLC1RSK82EoxuDke31CZuHRsdH6mo4YoSABxnTWu1BTbAxiTazHaSZ6YvDVe8R/ZNVsKNdT0osuZpZHT4a08+Ua1E3/+bvzt9YY4t2zQjzyFbFOz7gcXIASAJTjvoNAIRCSBi6dc2ba1tvnV82x6SgQXRzWw9FBP1ANgBOtczq5Yto8tyTbTaUycXWz98/Xwc64f3bZoYrW+ccVBw0dmmyYmvPfWV7VNT3/zzbx+dPm0dupzBOeEjKhFUq5mxWkjb2OayGKVXG66owCOvqmoT9cmbx8Y3NwKybJfibLGbCcKhSrjdkuGUhWk7yq1xGjpdJga0lGa219efP3Tz5rF6sYG/S/FVf1EleuSRhxuN+p99+zsvvPx6nhu2lgCFUCYHFIEMQ6rv0JbU8HgwNuIrDxnyfpJi0LMUsax4apzUYqc318nGquFoo+p5wl/rX4jNmrMG2GnoxD1fihkEPGl9xV+6/7YNMhcVLwAAlFIfufvur3/1KXbw4qvHcpMbnQnqCs86MELWIar4XkX6lRw9g74ghFB1hG/6JndusuKFiuqh30pwta8RuRaKrXXV00Yb07LAxuWWV5HYsXD87JvzI5Xo0UPbpCw+/OJbcIUwCu+/74gg8r0fvPLGsVYnNlqjZfQtCCF4SPlKKkIH1rEV0vo+er5FgNyJjLcIqntKEnWydKnbh0gNBWqqZhnQ5rYrBQPmWrfjvgAEy08fO3/zqLd/x6Qq2sFGEQAAYRgeOXJ4YmL8x8/+5Dvf/aultZbNjXBOIOn2Sib9at3zwBnLmfTIC4SvhJSJs5dNBhomAxUqsoDLmb3YSm8dCW8ZCzwB0HYXjNNAbMDkWTvBQIqZ5fbzRy9MTTZGiz5J3kACACAMw7179zbqjUtzCz/8px934tRmCSEoxyljx1qvblhFhh0iSyGFAgqj2KgzSdy3ZsKnCGmiUW8myUqWV3zaMuQx2P6aWUIQkgDA5Xqt2/ah8vqFlbvOLjywP1KFJos2lgAAQMTJzZN/+PWvALh/ePq51VbbpH3J7AFmziXGitoIRmiIciKLUc7gK4HKW0gTq+1kJEYjEflRqxc7xJFQhRKbadKKrVASkYy1xmT9lNp9sdiOjeNiz242nAAAkFLu3rP7q198/K23pjvdTm6MyRIAVEw5KUNSkAAkB5yBs66C7AW+Z4FbJpeGyUKDZCOqSGkBXBTAaN1vGJ0ha2uAOPRIgQmwN1r1uej/Y7dBjywQcde+fV978ve2TW6S5MBqzmKRd1Xapu6q67VIxzLvc9p1aU9rnRvtPC/zgzkN57ouZlHxIyUCw7JvhFB+JfQBmJwNFQ35akymmyOVJwkzFxvpRhwBV4iqlc997jOe733v+z945Y1fWGdZZ5K6hJAhWEkELBgcYwbAHLLPSkomuabNqsZGGBBKdtDLTE87QDDO+sShRKX7Y1W8e/fU9s2jShV8WrBxBQBAvVH/7Gcf3TK56Zvf+ssfPfe8zo2whqyWuU4dWMOiwgjgmHMACURI0g9AumVDrs+esWggybCZ2Z5zAGSyJHZmk0p/68BHHj687+bx4cKPaza0AAAIw/DQPUf+yLrpEydmZmd1nJKzIrAem9zllp1Ep8ABgQVwiMxAykuALiXOdwips0BWBWy0S+J+mk0oce/+PffftWdqYmQj3HdWfAv+RzxPHbrn0FNPfHHbxFBFMeV91jHlseotivY89tdE3hN5ymmaJ4nJjEk0O0vGOGtycDlDxQ89xrTbC5R4cNfWxz928Lat4xuh92Hjj4Ar+H7wyYcfevWFf87iuJvlBP2eRnRMvMgElsgjD1FwRgYlEwtgZueQBSJqna52bJpUhbxnW+3Jh+/Zt32yujESQXC9CECirVPbhxsjW8aWszRrpf1ut2sFS2dd0zEzKukJzp12kKMXpYkfSkHoOM9sq9nvrFAQHJ5q/MGn7j+8d3sUbKCSoetDAABEtcaBj9ybZfHa6prsyGbcbmcxsBPOsc1zZB+c8qLc6hyslSawwP1eL+6yToPQ2zdZ+ePffeTI3bs2VO/DdSRAKe+BT3xyfmEuS95IdTYUqbgfOyTHDNakl89hbqoT20i6tN1VfqTRgtahL/xQHto5/o3f/8zBAzuLDuIDuG4EINGtO3c++IlPra6uxO4iLzQlOUYDjGyAjE1W5iiLWdSMC4PhhmhUEd3uLaMP37Hr4/fccWD/jqIj+GAGI+DKbvP/ewpYq9cO3XNvtTY8feJ4/V+f7bSaQ/XhcGgkzkyrk5y/vHJ5ZdW4rkd14P6msVv3bhn58qP3ffxjR8Jww53Fv8sAqiKu3utfg15w1mZp1m61pJRBGDjEM6dnLs0vZtotrbbOz146NXMm8v0HDh986P4jO27bvsErpa8/Ae/HGGOtZUBmZuZOsyMEhYEf1apEG/SD/y6DEnDlhq/1EXBdM+DdYMGpxw3IAAXwex5KrjCoZWg59/w3FJKQKgfBrxi4gHIiei8DEHDV7MNQdv2vUcQqiLk08S6DFfCrfEDp4JcMfATgVT+XDgYuAAHwfUvSG9rBAAT8hv7lclFUyD4A3zMR3dgUeyBzdZ4ObsztcnE74V8mR69aF92Qo6GgKejdR/y1j/8N52CwO+H3PIlX/RV/44s/zAxmBOD7Ohqu+vXqJ2+4ETDIi/AHOuAPes0NROFlKTdcj/8aG6JA9UamFFAwpYCCKQUUTCmgYEoBBVMKKJhSQMGUAgqmFFAwpYCCKQUUTCmgYEoBBVMKKJhSQMGUAgqmFFAwpYCCueZnwr/6EjYs70v9X3DNBbz7nQD/VX1eaviN/CeDHUYbuPQRrQAAAABJRU5ErkJggg==\"/></div></div></div></td><td style=\"padding:1px;\"><div style=\"display:flex; align-items:left;\">\n",
       "      <div style=\"display:flex; flex-direction:column; align-items:center;\">\n",
       "      <div>Step 80</div><div><img width=\"128\" height=\"128\" style=\"image-rendering:auto; object-fit:cover;\" src=\"data:image/png;base64,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\"/></div></div></div></td><td style=\"padding:1px;\"><div style=\"display:flex; align-items:left;\">\n",
       "      <div style=\"display:flex; flex-direction:column; align-items:center;\">\n",
       "      <div>Step 90</div><div><img width=\"128\" height=\"128\" style=\"image-rendering:auto; object-fit:cover;\" src=\"data:image/png;base64,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\"/></div></div></div></td><td style=\"padding:1px;\"><div style=\"display:flex; align-items:left;\">\n",
       "      <div style=\"display:flex; flex-direction:column; align-items:center;\">\n",
       "      <div>Step 100</div><div><img width=\"128\" height=\"128\" style=\"image-rendering:auto; object-fit:cover;\" src=\"data:image/png;base64,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\"/></div></div></div></td></tr></table>"
      ],
      "text/plain": [
       "<IPython.core.display.HTML object>"
      ]
     },
     "metadata": {},
     "output_type": "display_data"
    }
   ],
   "source": [
    "data = {}\n",
    "for i, f in enumerate(overlay_frames):\n",
    "    step = i*10\n",
    "    data[f\"Step {step}\"] = f\n",
    "media.show_images(data)"
   ]
  },
  {
   "cell_type": "code",
   "execution_count": null,
   "metadata": {},
   "outputs": [],
   "source": []
  }
 ],
 "metadata": {
  "kernelspec": {
   "display_name": "Python 3 (ipykernel)",
   "language": "python",
   "name": "python3"
  },
  "language_info": {
   "codemirror_mode": {
    "name": "ipython",
    "version": 3
   },
   "file_extension": ".py",
   "mimetype": "text/x-python",
   "name": "python",
   "nbconvert_exporter": "python",
   "pygments_lexer": "ipython3",
   "version": "3.8.20"
  }
 },
 "nbformat": 4,
 "nbformat_minor": 4
}
